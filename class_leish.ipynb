{
 "cells": [
  {
   "cell_type": "markdown",
   "metadata": {},
   "source": [
    "# Class implementation of Leishmania "
   ]
  },
  {
   "cell_type": "code",
   "execution_count": 1,
   "metadata": {},
   "outputs": [],
   "source": [
    "import matplotlib.pyplot as plt\n",
    "import numpy as np\n",
    "import matplotlib.animation as animation\n",
    "import random\n",
    "import time\n",
    "from IPython import display\n",
    "import seaborn as sns"
   ]
  },
  {
   "cell_type": "code",
   "execution_count": 3,
   "metadata": {},
   "outputs": [],
   "source": [
    "class Leishmania(object):\n",
    "    def __init__(self, coord):\n",
    "        self.coord = np.array(coord)\n",
    "    \n",
    "    def Movement_Leish(self):\n",
    "        \"\"\" The Leishmania will move when iterated, one step, this place will be \n",
    "        randomly chosen from its first neighbours \"\"\"\n",
    "        neighborhood = FirstMooreNeighborhood(self.coord)\n",
    "        coord = self.coord\n",
    "        step = random.choice(neighborhood)\n",
    "        Space[coord[0]][coord[1]] = 0\n",
    "        Space[step[0]][step[1]] = 1\n",
    "        self.coord = step\n",
    "        return self.coord\n",
    "    "
   ]
  },
  {
   "cell_type": "code",
   "execution_count": 5,
   "metadata": {},
   "outputs": [],
   "source": [
    "class Macrophage(object):\n",
    "    def __init__(self, coord, infected, name, time, leish = None):\n",
    "        \"\"\"coord = coordinate, infected := True if infected/False if healthy(boolean), \n",
    "        name := type of macrophage, time:= time alive/when infected time infected \"\"\"\n",
    "        self.coord = np.array(coord)\n",
    "        self.infected = bool(infected)\n",
    "        self.name = name\n",
    "        self.time = int(time)\n",
    "        if leish is None: # se quiere poner la leishmania no sólo la coordenada \n",
    "            self.leish = []\n",
    "        \n",
    "    def print_info(self):\n",
    "        #prints the information about a macro\n",
    "        print('Type: {}, Infected: {}, Coordinates: {}, Tiempo: {}, Chasing Leish: {}'\n",
    "              .format(self.name, self.infected, self.coord, self.time, self.leish))\n",
    "    \n",
    "    def Movement_Macro(self):\n",
    "        \"\"\"The Macrophage will move when iterated, two steps, \n",
    "        this place will be randomly chosen from its second neighbours\"\"\"\n",
    "        \n",
    "        neighborhood = SecondMooreNeighborhood(self.coord)\n",
    "        step = random.choice(neighborhood) \n",
    "        DrawMacro(self.coord, 0)\n",
    "        self.coord = step\n",
    "        if self.infected == False:\n",
    "            aux = 2\n",
    "        else:\n",
    "            aux = 3\n",
    "        DrawMacro(self.coord, aux)\n",
    "        \n",
    "        return self.coord\n",
    "    \n",
    "    def Search_Leish(self):\n",
    "        '''Scan Moore neighborhood with range 3, if Leish found, track it'''\n",
    "        neighborhood = []\n",
    "        coord = self.coord\n",
    "        for i in range(-3,4):\n",
    "            for j in range(-3,4):\n",
    "                if i!=0 or j!=0:\n",
    "                    neighborhood.append(((i+coord[0])%N,(j+coord[1])%N))\n",
    "        neighborhood = [x for x in vecindad if (x not in FirstMooreNeighborhood(coord))]\n",
    "        \n",
    "        for (i,j) in neighborhood: #cambiar para buscar en lista de leish y no en espacio\n",
    "            if Space[i][j] == 1:\n",
    "                self.leish = (i,j)\n",
    "                return self.leish\n",
    "            \n",
    "    def Pursuit(self): #considera por ahora que self.leish es la coordenada\n",
    "        '''For Macrophage tracking Leish, take a step towards Leish coordinate '''\n",
    "        neighborhood = SecondMooreNeighborhood(self.coord)\n",
    "        min_distance = Distance(self.leish, neighborhood[0])\n",
    "        closest = neighborhood[0]\n",
    "        for coor in enumerate(neighborhood): \n",
    "            distance = Distance(self.leish, coor)\n",
    "            if distance < min_distance:\n",
    "                min_distance = distance\n",
    "                closest = coor\n",
    "        #move macrophage and adjust Space accordingly\n",
    "        DrawMacro(self.coord, 0)\n",
    "        self.coord = closest\n",
    "        DrawMacro(self.coord)\n",
    "        return self.coord\n",
    "    \n",
    "    def Leish_Reproduction(self):\n",
    "        '''Infected Macrophage dies, releasing new Leish'''\n",
    "        DrawMacro(self.coord, 0) #Remove from Space\n",
    "        neighborhood = SecondMooreNeighborhood(self.coord)\n",
    "        for coor in neighborhood:\n",
    "            #!!! no existe esto aun \n",
    "            Leishmanias.append(coor)\n",
    "            Space[coor[0]][coor[1]] = 1\n",
    "        #Macrophage dies\n",
    "        ##ya no es necesario cambiarle los valores, solo sacarlo de la lista\n",
    "        #!!! la lista tampoco existe todavia\n",
    "        Macrophages.remove(self)\n",
    "        return\n",
    "    \n",
    "    def Macro_Reproduction(self):\n",
    "    "
   ]
  },
  {
   "cell_type": "code",
   "execution_count": 1,
   "metadata": {},
   "outputs": [],
   "source": [
    "#Neighborhood functions\n",
    "def FirstMooreNeighborhood(coordinate): \n",
    "    '''\n",
    "    Moore neighborhood of coordinate with range 1 \n",
    "    '''\n",
    "    neighborhood = []\n",
    "    for i in range(-1,2):\n",
    "        for j in range(-1,2):\n",
    "            if i!=0 or j!=0:\n",
    "                neighborhood.append(((i+coordinate[0])%N,(j+coordinate[1])%N))\n",
    "    return neighborhood\n",
    "\n",
    "\n",
    "def SecondMooreNeighborhood(coordinate):\n",
    "    '''\n",
    "    Moore neighborhood of coordinate with range 2, excluding neighborhood with range 1\n",
    "    '''\n",
    "    neighborhood = []\n",
    "    for i in range(-2,3):\n",
    "        for j in range(-2,3):\n",
    "            if i!=0 or j!=0:\n",
    "                neighborhood.append(((i+coordinate[0])%N,(j+coordinate[1])%N))\n",
    "    neighborhood = [x for x in neighborhood if (x not in FirstMooreNeighborhood(coordinate))]\n",
    "    return neighborhood"
   ]
  },
  {
   "cell_type": "code",
   "execution_count": null,
   "metadata": {},
   "outputs": [],
   "source": [
    "#Drawing functions\n",
    "def DrawMacro(coordinate, z = None):\n",
    "    '''Draw macrophage in Space matrix. z specifies number, default is 2 '''\n",
    "    neighborhood = FirstMooreNeighborhood(coordinate)\n",
    "    neighborhood.append(coordinate)\n",
    "    if z == None:\n",
    "        z = 2\n",
    "    for x in neighborhood:\n",
    "        Space[x[0]][x[1]] = z\n",
    "        \n",
    "def DrawSpace(Space):\n",
    "    '''Plot Space matrix'''\n",
    "    f,ax = plt.subplots(1,1,figsize=(3,3),dpi=120)\n",
    "    ax.imshow(Space,vmin=0,vmax = 3,cmap='jet')\n",
    "    plt.show()\n",
    "    plt.close()"
   ]
  },
  {
   "cell_type": "code",
   "execution_count": null,
   "metadata": {},
   "outputs": [],
   "source": [
    "#Other functions\n",
    "def Distance(a,b):\n",
    "    '''Distance from a to b, rounded to 1 decimal'''\n",
    "    dist = ((a[0]-b[0])**2+(a[1]-b[1])**2)**(1/2)\n",
    "    return round(dist,1)"
   ]
  },
  {
   "cell_type": "code",
   "execution_count": null,
   "metadata": {},
   "outputs": [],
   "source": [
    "class Leuco(Macrophage):\n",
    "    pass"
   ]
  },
  {
   "cell_type": "markdown",
   "metadata": {},
   "source": [
    "Notas:\n",
    "<item>regresar error si algo no se puede (ej. pedir leish_reproduction a un macro no infectado)\n",
    "<item>no sé cómo usar las listas de leish/macro, parece mala idea usarlas en las clases si las listas se definen fuera de ellas, no sé qué tan bien es definirlas dentro de las clases\n",
    "<item>donde meter info sobre días/cuantas iteraciones hacen un día"
   ]
  },
  {
   "cell_type": "code",
   "execution_count": null,
   "metadata": {},
   "outputs": [],
   "source": []
  }
 ],
 "metadata": {
  "kernelspec": {
   "display_name": "Python 3",
   "language": "python",
   "name": "python3"
  },
  "language_info": {
   "codemirror_mode": {
    "name": "ipython",
    "version": 3
   },
   "file_extension": ".py",
   "mimetype": "text/x-python",
   "name": "python",
   "nbconvert_exporter": "python",
   "pygments_lexer": "ipython3",
   "version": "3.7.4"
  }
 },
 "nbformat": 4,
 "nbformat_minor": 2
}
