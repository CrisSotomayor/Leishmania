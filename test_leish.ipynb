{
 "cells": [
  {
   "cell_type": "code",
   "execution_count": 1,
   "metadata": {},
   "outputs": [],
   "source": [
    "import sys \n",
    "sys.path.append(\"/home/diana/Leishmania\")\n",
    "from sim_leish import simulation\n",
    "import class_leish as cll\n",
    "import multiprocessing as mp\n",
    "import itertools"
   ]
  },
  {
   "cell_type": "markdown",
   "metadata": {},
   "source": [
    "## Primeras simulaciones"
   ]
  },
  {
   "cell_type": "markdown",
   "metadata": {},
   "source": [
    "Los parámetros de nuestra función son:\n",
    "```\n",
    "Parameters:\n",
    "        num_leish (int): initial leishmania population\n",
    "        num_macro (int): initial macrophage population\n",
    "        p (float): probability that leish will infect macrophage following\n",
    "                   phagocytosis\n",
    "        recruit_rate (float): percent of initial population of macrophages that\n",
    "                              get recruited\n",
    "        days (int): number of days that simulation will run, default is 70 days\n",
    "                    (10 weeks)\n",
    "        steps (int): number of \"steps\" in a day, default is 96 for 15 minute steps\n",
    "        len_infection (int): days infected before releasing leish\n",
    "        size (int): space considered will be grid size x size\n",
    "        draw (bool): default False. If True, draws space at the end of every day.\n",
    "        save (bool): default False. If true, save graphs.\n",
    "\n",
    "```"
   ]
  },
  {
   "cell_type": "markdown",
   "metadata": {},
   "source": [
    "Nos estamos basando en el experimento de ratones, donde se introducen originalmente 100 leishmanias. En las gráficas del experimento, en la semana 0, de las 10 orejas de todos los ratones se tienen 20,000 macros (en promedio 2,000 en una lesión, que es lo que queremos simular), y el mayor número que se alcanza es 140,000 (en promedio 14,000 en una lesión). Nuestro número inicial de macros será 2,000. \n",
    "\n",
    "Variamos la probabilidad de infección y la tasa de reclutamiento de macrófagos, para ver si podemos recrear los resultados del experimento de los ratones y con qué parámetros lo hacemos.\n",
    "\n",
    "Correremos 70 días, en el artículo se tienen los datos en las gráficas de leish hasta semana 11 y de macros hasta semana 9, corremos hasta semana 10 para comparar. Para el tiempo de un paso, consideramos que los promastigotes son ovalados y miden entre 5-14 µm de largo, amastigotes son redondos de entre 2-4µm. Según la literatura, tomaría al menos 20 minutos fagocitar promastigotes, y aprox 5 minutos fagocitar amastigotes. Nuestros pasos están definidos en base a un \"evento\" de fagocitación, 15 minutos cada paso en promedio. \n",
    "\n",
    "Consideramos que el tiempo que se tardan en liberar las leishmanias es de 28 días, y que el número de leishmanias que se liberan por cada una es 16 (no está como parámetro, solo en el código). Consideramos que salen en la segunda vecindad de Moore de la coordenada central del macrófago. \n",
    "\n",
    "Para el tamaño, queremos recrear el sitio de lesión de 1mm. Asumiendo que nuestra representación de una leishmania por un cuadrito es un amastigote (2-4µm) (aunque inicialmente se introducen promastigotes), tendríamos un espacio de entre  250 y 500 de tamaño. Podemos considerar 500, ya que nuestros macros no están a escala con las leishmanias (deberían ser entre 5 y 10 veces más grandes, y son 3 veces más grandes). Entonces, asumimos que 500x500 refleja el sitio de lesión, con las 100 leishmanias y 2000 macros iniciales. Sin embargo, es un espacio que toma demasiado tiempo para correr, y mientras afinamos valores usaremos un espacio de 100x100, con 4 leishmanias y 80 macros. "
   ]
  },
  {
   "cell_type": "markdown",
   "metadata": {},
   "source": [
    "### Estimaciones:"
   ]
  },
  {
   "cell_type": "markdown",
   "metadata": {},
   "source": [
    "Nuestra $p$ representa la probabilidad de que un macrófago se infecte al fagocitar una leishmania. Según lo que hemos leído acerca de los macrófagos tipo M1 y tipo M2, los tipo M2 son los que permiten el crecimiento de leishmanias, de modo que nuestra p se puede pensar como: \n",
    "\n",
    "$$p \\approx \\frac{|M2|}{|M1+M2|}$$\n",
    "\n",
    "\n",
    "Habría que confirmar que la tasa de diferenciación entre los dos tipos nos permite considerar la probabilidad en cualquier momento de que sean de ese tipo, o si sería mejor darles un tipo al inicio y asignarles una probabilidad de que se diferencien al otro tipo en cada paso. Encontré un dato de M1/M2 ~4 en tejido adiposo, y otro de M1/M2 ~1.5 en orejas de ratones (creo, era el control de otro experimento). Eso nos da un estimado de $p$ entre $0.2$ y $0.4$. De ahí consideramos los valores:\n",
    "\n",
    "$$p = [0.1, 0.2, 0.4]$$ \n",
    "\n",
    "Donde esperaríamos que 0.2 sea el más adecuado. Para la tasa de reclutamiento de macros, no he encontrado datos, pero los datos de los ratones sugieren que es un crecimiento exponencial considerable. Probaremos con los estimados: \n",
    "\n",
    "$$ r = [0.25, 0.5, 1] $$ \n",
    "\n",
    "Estos valores nos permitirán ir refinando los parámetros del modelo, para ver si refleja la realidad de los experimentos. "
   ]
  },
  {
   "cell_type": "code",
   "execution_count": 2,
   "metadata": {},
   "outputs": [],
   "source": [
    "p = [0.1, 0.2, 0.4]\n",
    "r = [0.25, 0.5 ,1]\n",
    "inputs = list(itertools.product(p,r))\n",
    "\n",
    "def sim(p,r):\n",
    "    simulation(4, 80, p, r, size=100, save=True)\n",
    "    return"
   ]
  },
  {
   "cell_type": "code",
   "execution_count": 3,
   "metadata": {},
   "outputs": [
    {
     "ename": "TypeError",
     "evalue": "a bytes-like object is required, not 'str'",
     "output_type": "error",
     "traceback": [
      "\u001b[0;31m---------------------------------------------------------------------------\u001b[0m",
      "\u001b[0;31mRemoteTraceback\u001b[0m                           Traceback (most recent call last)",
      "\u001b[0;31mRemoteTraceback\u001b[0m: \n\"\"\"\nTraceback (most recent call last):\n  File \"/home/diana/anaconda3/lib/python3.7/multiprocessing/pool.py\", line 121, in worker\n    result = (True, func(*args, **kwds))\n  File \"/home/diana/anaconda3/lib/python3.7/multiprocessing/pool.py\", line 47, in starmapstar\n    return list(itertools.starmap(args[0], args[1]))\n  File \"<ipython-input-2-3b31b857a5c8>\", line 6, in sim\n    simulation(4, 80, p, r, size=100, save=True)\n  File \"/home/diana/Leishmania/sim_leish.py\", line 114, in simulation\n    cll.GraphPopulations(populations, p, recruit_rate, save)\n  File \"/home/diana/Leishmania/class_leish.py\", line 215, in GraphPopulations\n    writer.writerow(populations.keys())\nTypeError: a bytes-like object is required, not 'str'\n\"\"\"",
      "\nThe above exception was the direct cause of the following exception:\n",
      "\u001b[0;31mTypeError\u001b[0m                                 Traceback (most recent call last)",
      "\u001b[0;32m<ipython-input-3-646d4f1412c7>\u001b[0m in \u001b[0;36m<module>\u001b[0;34m\u001b[0m\n\u001b[1;32m      1\u001b[0m \u001b[0;32mwith\u001b[0m \u001b[0mmp\u001b[0m\u001b[0;34m.\u001b[0m\u001b[0mPool\u001b[0m\u001b[0;34m(\u001b[0m\u001b[0;36m4\u001b[0m\u001b[0;34m)\u001b[0m \u001b[0;32mas\u001b[0m \u001b[0mpool\u001b[0m\u001b[0;34m:\u001b[0m\u001b[0;34m\u001b[0m\u001b[0;34m\u001b[0m\u001b[0m\n\u001b[0;32m----> 2\u001b[0;31m     \u001b[0mpool\u001b[0m\u001b[0;34m.\u001b[0m\u001b[0mstarmap\u001b[0m\u001b[0;34m(\u001b[0m\u001b[0msim\u001b[0m\u001b[0;34m,\u001b[0m\u001b[0minputs\u001b[0m\u001b[0;34m)\u001b[0m\u001b[0;34m\u001b[0m\u001b[0;34m\u001b[0m\u001b[0m\n\u001b[0m",
      "\u001b[0;32m~/anaconda3/lib/python3.7/multiprocessing/pool.py\u001b[0m in \u001b[0;36mstarmap\u001b[0;34m(self, func, iterable, chunksize)\u001b[0m\n\u001b[1;32m    274\u001b[0m         \u001b[0;31m`\u001b[0m\u001b[0mfunc\u001b[0m\u001b[0;31m`\u001b[0m \u001b[0;32mand\u001b[0m \u001b[0;34m(\u001b[0m\u001b[0ma\u001b[0m\u001b[0;34m,\u001b[0m \u001b[0mb\u001b[0m\u001b[0;34m)\u001b[0m \u001b[0mbecomes\u001b[0m \u001b[0mfunc\u001b[0m\u001b[0;34m(\u001b[0m\u001b[0ma\u001b[0m\u001b[0;34m,\u001b[0m \u001b[0mb\u001b[0m\u001b[0;34m)\u001b[0m\u001b[0;34m.\u001b[0m\u001b[0;34m\u001b[0m\u001b[0;34m\u001b[0m\u001b[0m\n\u001b[1;32m    275\u001b[0m         '''\n\u001b[0;32m--> 276\u001b[0;31m         \u001b[0;32mreturn\u001b[0m \u001b[0mself\u001b[0m\u001b[0;34m.\u001b[0m\u001b[0m_map_async\u001b[0m\u001b[0;34m(\u001b[0m\u001b[0mfunc\u001b[0m\u001b[0;34m,\u001b[0m \u001b[0miterable\u001b[0m\u001b[0;34m,\u001b[0m \u001b[0mstarmapstar\u001b[0m\u001b[0;34m,\u001b[0m \u001b[0mchunksize\u001b[0m\u001b[0;34m)\u001b[0m\u001b[0;34m.\u001b[0m\u001b[0mget\u001b[0m\u001b[0;34m(\u001b[0m\u001b[0;34m)\u001b[0m\u001b[0;34m\u001b[0m\u001b[0;34m\u001b[0m\u001b[0m\n\u001b[0m\u001b[1;32m    277\u001b[0m \u001b[0;34m\u001b[0m\u001b[0m\n\u001b[1;32m    278\u001b[0m     def starmap_async(self, func, iterable, chunksize=None, callback=None,\n",
      "\u001b[0;32m~/anaconda3/lib/python3.7/multiprocessing/pool.py\u001b[0m in \u001b[0;36mget\u001b[0;34m(self, timeout)\u001b[0m\n\u001b[1;32m    655\u001b[0m             \u001b[0;32mreturn\u001b[0m \u001b[0mself\u001b[0m\u001b[0;34m.\u001b[0m\u001b[0m_value\u001b[0m\u001b[0;34m\u001b[0m\u001b[0;34m\u001b[0m\u001b[0m\n\u001b[1;32m    656\u001b[0m         \u001b[0;32melse\u001b[0m\u001b[0;34m:\u001b[0m\u001b[0;34m\u001b[0m\u001b[0;34m\u001b[0m\u001b[0m\n\u001b[0;32m--> 657\u001b[0;31m             \u001b[0;32mraise\u001b[0m \u001b[0mself\u001b[0m\u001b[0;34m.\u001b[0m\u001b[0m_value\u001b[0m\u001b[0;34m\u001b[0m\u001b[0;34m\u001b[0m\u001b[0m\n\u001b[0m\u001b[1;32m    658\u001b[0m \u001b[0;34m\u001b[0m\u001b[0m\n\u001b[1;32m    659\u001b[0m     \u001b[0;32mdef\u001b[0m \u001b[0m_set\u001b[0m\u001b[0;34m(\u001b[0m\u001b[0mself\u001b[0m\u001b[0;34m,\u001b[0m \u001b[0mi\u001b[0m\u001b[0;34m,\u001b[0m \u001b[0mobj\u001b[0m\u001b[0;34m)\u001b[0m\u001b[0;34m:\u001b[0m\u001b[0;34m\u001b[0m\u001b[0;34m\u001b[0m\u001b[0m\n",
      "\u001b[0;31mTypeError\u001b[0m: a bytes-like object is required, not 'str'"
     ]
    }
   ],
   "source": [
    "with mp.Pool(4) as pool:\n",
    "    pool.starmap(sim,inputs)"
   ]
  },
  {
   "cell_type": "code",
   "execution_count": null,
   "metadata": {},
   "outputs": [],
   "source": [
    "sim(0.2, 1)"
   ]
  },
  {
   "cell_type": "code",
   "execution_count": null,
   "metadata": {},
   "outputs": [],
   "source": []
  }
 ],
 "metadata": {
  "kernelspec": {
   "display_name": "Python 3",
   "language": "python",
   "name": "python3"
  },
  "language_info": {
   "codemirror_mode": {
    "name": "ipython",
    "version": 3
   },
   "file_extension": ".py",
   "mimetype": "text/x-python",
   "name": "python",
   "nbconvert_exporter": "python",
   "pygments_lexer": "ipython3",
   "version": "3.7.7"
  }
 },
 "nbformat": 4,
 "nbformat_minor": 2
}
