{
 "cells": [
  {
   "cell_type": "code",
   "execution_count": 12,
   "metadata": {},
   "outputs": [],
   "source": [
    "import numpy as np\n",
    "import itertools"
   ]
  },
  {
   "cell_type": "code",
   "execution_count": 2,
   "metadata": {},
   "outputs": [],
   "source": [
    "auxi = [[-2,-2],[-2,-1],[-2,0],[-2,1],[-2,2], # improve this\n",
    "            [-1,-2],[-1,2],[0,-2],[0,2],[1,-2],[1,2],\n",
    "            [2,-2],[2,-1],[2,0],[2,1],[2, 2]]"
   ]
  },
  {
   "cell_type": "code",
   "execution_count": 42,
   "metadata": {},
   "outputs": [],
   "source": [
    "def neighbourhoud(agent,r=1,max_rad=3):\n",
    "    pos = agent.coord\n",
    "    N = agent.spacesize\n",
    "    ls = [i for i in itertools.product(range(-max_rad,max_rad+1),range(-max_rad,max_rad+1))]\n",
    "    crd = {}\n",
    "    for i in ls:\n",
    "        try:\n",
    "            crd[np.max(np.abs(i))].append(i)\n",
    "        except:\n",
    "            crd[np.max(np.abs(i))] = [i]\n",
    "    return list(map(lambda x:[(x[0]+pos[0])%N,(x[1]+pos[1])%N],crd[r]))"
   ]
  },
  {
   "cell_type": "code",
   "execution_count": 47,
   "metadata": {},
   "outputs": [],
   "source": [
    "class agent_test:\n",
    "    pass\n",
    "a = agent_test()\n",
    "a.coord = [0,0]\n",
    "a.spacesize = 3"
   ]
  },
  {
   "cell_type": "code",
   "execution_count": 48,
   "metadata": {},
   "outputs": [
    {
     "data": {
      "text/plain": [
       "array([[2, 2],\n",
       "       [2, 0],\n",
       "       [2, 1],\n",
       "       [0, 2],\n",
       "       [0, 1],\n",
       "       [1, 2],\n",
       "       [1, 0],\n",
       "       [1, 1]])"
      ]
     },
     "execution_count": 48,
     "metadata": {},
     "output_type": "execute_result"
    }
   ],
   "source": [
    "neighbourhoud(a)"
   ]
  },
  {
   "cell_type": "code",
   "execution_count": null,
   "metadata": {},
   "outputs": [],
   "source": []
  }
 ],
 "metadata": {
  "kernelspec": {
   "display_name": "Python 3",
   "language": "python",
   "name": "python3"
  },
  "language_info": {
   "codemirror_mode": {
    "name": "ipython",
    "version": 3
   },
   "file_extension": ".py",
   "mimetype": "text/x-python",
   "name": "python",
   "nbconvert_exporter": "python",
   "pygments_lexer": "ipython3",
   "version": "3.7.3"
  }
 },
 "nbformat": 4,
 "nbformat_minor": 4
}
